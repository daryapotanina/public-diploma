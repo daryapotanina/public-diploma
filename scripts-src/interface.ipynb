{
 "cells": [
  {
   "cell_type": "code",
   "execution_count": 1,
   "id": "d1b822fd",
   "metadata": {},
   "outputs": [],
   "source": [
    "import xmlrpc.client as xmlrpclib\n",
    "\n",
    "cmd = xmlrpclib.ServerProxy('http://localhost:9123')\n",
    "cmd.fragment('ala')"
   ]
  },
  {
   "cell_type": "code",
   "execution_count": 3,
   "id": "9721fdf7",
   "metadata": {},
   "outputs": [],
   "source": [
    "cmd.delete('all')"
   ]
  },
  {
   "cell_type": "code",
   "execution_count": 2,
   "id": "53d03bfa",
   "metadata": {},
   "outputs": [],
   "source": [
    "cmd.delete('all')\n",
    "cmd.do('load ./pdb/6bd0.pdb, multiplex=1; as sticks')"
   ]
  },
  {
   "cell_type": "code",
   "execution_count": 10,
   "id": "83a58c0b",
   "metadata": {},
   "outputs": [
    {
     "name": "stdout",
     "output_type": "stream",
     "text": [
      "[('11013331', 'KAT'), ('9085267', 'NOT'), ('5238761', 'ETH'), ('5349618', 'ETH'), ('11788544', 'NOT'), ('962142', 'ETH'), ('7795297', 'ETH'), ('7341464', 'ETH'), ('9843236', 'KAT'), ('5594916', 'ETH'), ('1550003', 'ETH')]\n",
      "defaultdict(<class 'list'>, {'KAT': ['11013331', '9843236'], 'NOT': ['9085267', '11788544'], 'ETH': ['5238761', '5349618', '962142', '7795297', '7341464', '5594916', '1550003']})\n"
     ]
    }
   ],
   "source": [
    "input = [\n",
    "    (\"11013331\", \"KAT\"),\n",
    "    (\"9085267\", \"NOT\"),\n",
    "    (\"5238761\", \"ETH\"),\n",
    "    (\"5349618\", \"ETH\"),\n",
    "    (\"11788544\", \"NOT\"),\n",
    "    (\"962142\", \"ETH\"),\n",
    "    (\"7795297\", \"ETH\"),\n",
    "    (\"7341464\", \"ETH\"),\n",
    "    (\"9843236\", \"KAT\"),\n",
    "    (\"5594916\", \"ETH\"),\n",
    "    (\"1550003\", \"ETH\"),\n",
    "]\n",
    "from collections import defaultdict\n",
    "\n",
    "res = defaultdict(list)\n",
    "for v, k in input:\n",
    "    res[k].append(v)\n",
    "\n",
    "print(input)\n",
    "print(res)"
   ]
  },
  {
   "cell_type": "code",
   "execution_count": 114,
   "id": "af0f1f7e",
   "metadata": {},
   "outputs": [],
   "source": [
    "import time\n",
    "\n",
    "cmd.delete('all')\n",
    "time.sleep(0.700)\n",
    "cmd.delete('all')\n",
    "\n",
    "cmd.do('load ./pdb/5mct.pdb, multiplex=1; as sticks')\n",
    "# cmd.do('load ./pdb/5mct.pdb; as sticks')\n",
    "# cmd.do('load ./pdb/5mct.pdb, multiplex=1')"
   ]
  },
  {
   "cell_type": "code",
   "execution_count": 117,
   "metadata": {},
   "outputs": [],
   "source": [
    "cmd.delete('all')\n",
    "cmd.do('load ./pdb/1ytb.pdb, multiplex=1; as sticks')"
   ]
  },
  {
   "cell_type": "code",
   "execution_count": 116,
   "id": "a4a3e304",
   "metadata": {},
   "outputs": [],
   "source": [
    "cmd.do('''\n",
    "color grey, polymer.protein\n",
    "color white, polymer.nucleic\n",
    "''')"
   ]
  },
  {
   "cell_type": "code",
   "execution_count": 119,
   "id": "3d96e872",
   "metadata": {},
   "outputs": [
    {
     "name": "stdout",
     "output_type": "stream",
     "text": [
      "{'bfactors': []}\n",
      "[]\n"
     ]
    }
   ],
   "source": [
    "# cmd.do('''\n",
    "# list=[]\n",
    "# iterate (boo),list.append((resi + \"/\" +chain + \"/\" +resn))\n",
    "# print list\n",
    "# ''')\n",
    "\n",
    "myspace = {'bfactors': []}\n",
    "cmd.iterate('(boo)', 'bfactors.append(\"123\")', 1, myspace)\n",
    "# cmd.iterate('(boo)', 'bfactors.append((\"///\" + chain + \"/\" + resn + \"`\" + resi + \"/\"))', 1, myspace)\n",
    "print(myspace)\n",
    "print(myspace['bfactors'])\n",
    "# cmd.iterate('(boo)', 'bfactors.append(b)')\n"
   ]
  },
  {
   "cell_type": "code",
   "execution_count": 4,
   "id": "5b8972a8",
   "metadata": {},
   "outputs": [
    {
     "name": "stdout",
     "output_type": "stream",
     "text": [
      "filename report_LAGLIDADG_1_6BCE.csv\n",
      "6bce\n",
      "['/6bce//C/HOH`131/O', '/6bce//C/HOH`130/O', '/6bce//C/HOH`129/O', '/6bce//C/HOH`123/O', '/6bce//C/HOH`120/O', '/6bce//C/HOH`110/O', '/6bce//C/HOH`104/O', '/6bce//B/HOH`137/O', '/6bce//B/HOH`135/O', '/6bce//B/HOH`133/O', '/6bce//B/HOH`131/O', '/6bce//B/HOH`128/O', '/6bce//B/HOH`126/O', '/6bce//B/HOH`123/O', '/6bce//B/HOH`122/O', '/6bce//B/HOH`118/O', '/6bce//B/HOH`117/O', '/6bce//B/HOH`116/O', '/6bce//B/HOH`115/O', '/6bce//B/HOH`114/O', '/6bce//B/HOH`108/O', '/6bce//B/HOH`107/O', '/6bce//A/HOH`658/O', '/6bce//A/HOH`639/O', '/6bce//A/HOH`631/O', '/6bce//A/HOH`593/O', '/6bce//A/HOH`584/O', '/6bce//A/HOH`581/O', '/6bce//A/HOH`573/O', '/6bce//A/HOH`564/O', '/6bce//A/HOH`563/O', '/6bce//A/HOH`555/O', '/6bce//A/HOH`553/O', '/6bce//A/HOH`542/O', '/6bce//A/HOH`541/O', '/6bce//A/HOH`536/O', '/6bce//A/HOH`527/O', '/6bce//A/HOH`526/O', '/6bce//A/HOH`525/O', '/6bce//A/HOH`518/O', '/6bce//A/HOH`517/O', '/6bce//A/HOH`685/O', '/6bce//A/HOH`684/O', '/6bce//A/HOH`681/O', '/6bce//A/HOH`678/O', '/6bce//A/HOH`677/O', '/6bce//A/HOH`674/O', '/6bce//A/HOH`670/O', '/6bce//A/HOH`668/O', '/6bce//A/HOH`667/O', '/6bce//A/HOH`663/O', '/6bce//A/HOH`657/O', '/6bce//A/HOH`656/O', '/6bce//A/HOH`645/O', '/6bce//A/HOH`642/O', '/6bce//A/HOH`640/O', '/6bce//A/HOH`638/O', '/6bce//A/HOH`637/O', '/6bce//A/HOH`636/O', '/6bce//A/HOH`634/O', '/6bce//A/HOH`633/O', '/6bce//A/HOH`630/O', '/6bce//A/HOH`628/O', '/6bce//A/HOH`617/O', '/6bce//A/HOH`614/O', '/6bce//A/HOH`613/O', '/6bce//A/HOH`612/O', '/6bce//A/HOH`610/O', '/6bce//A/HOH`608/O', '/6bce//A/HOH`606/O', '/6bce//A/HOH`604/O', '/6bce//A/HOH`600/O', '/6bce//A/HOH`599/O', '/6bce//A/HOH`597/O', '/6bce//A/HOH`592/O', '/6bce//A/HOH`589/O', '/6bce//A/HOH`588/O', '/6bce//A/HOH`587/O', '/6bce//A/HOH`586/O', '/6bce//A/HOH`583/O', '/6bce//A/HOH`582/O', '/6bce//A/HOH`578/O', '/6bce//A/HOH`577/O', '/6bce//A/HOH`575/O', '/6bce//A/HOH`571/O', '/6bce//A/HOH`570/O', '/6bce//A/HOH`568/O', '/6bce//A/HOH`566/O', '/6bce//A/HOH`565/O', '/6bce//A/HOH`561/O', '/6bce//A/HOH`560/O', '/6bce//A/HOH`558/O', '/6bce//A/HOH`557/O', '/6bce//A/HOH`554/O', '/6bce//A/HOH`550/O', '/6bce//A/HOH`549/O', '/6bce//A/HOH`547/O', '/6bce//A/HOH`546/O', '/6bce//A/HOH`543/O', '/6bce//A/HOH`540/O', '/6bce//A/HOH`534/O', '/6bce//A/HOH`533/O', '/6bce//A/HOH`531/O', '/6bce//A/HOH`529/O', '/6bce//A/HOH`528/O', '/6bce//A/HOH`520/O', '/6bce//A/HOH`519/O', '/6bce//A/HOH`515/O', '/6bce//A/HOH`514/O', '/6bce//A/HOH`513/O', '/6bce//A/HOH`511/O', '/6bce//A/HOH`507/O', '/6bce//A/HOH`506/O', '/6bce//A/HOH`505/O', '/6bce//A/HOH`504/O', '/6bce//A/HOH`502/O', '/6bce//B/HOH`149/O', '/6bce//B/HOH`147/O', '/6bce//B/HOH`146/O', '/6bce//B/HOH`145/O', '/6bce//B/HOH`144/O', '/6bce//B/HOH`143/O', '/6bce//B/HOH`142/O', '/6bce//C/HOH`140/O', '/6bce//C/HOH`139/O', '/6bce//B/HOH`139/O', '/6bce//C/HOH`136/O', '/6bce//B/HOH`134/O', '/6bce//C/HOH`133/O', '/6bce//B/HOH`130/O', '/6bce//C/HOH`126/O', '/6bce//B/HOH`125/O', '/6bce//B/HOH`119/O', '/6bce//C/HOH`118/O', '/6bce//C/HOH`117/O', '/6bce//C/HOH`113/O', '/6bce//B/HOH`112/O', '/6bce//C/HOH`111/O', '/6bce//B/HOH`111/O', '/6bce//C/HOH`109/O', '/6bce//B/HOH`109/O', '/6bce//C/HOH`107/O', '/6bce//C/HOH`106/O', '/6bce//B/HOH`105/O', '/6bce//C/HOH`105/O', '/6bce//C/HOH`102/O', '/6bce//B/HOH`102/O', '/6bce//B/HOH`101/O']\n",
      "///C/HOH`131/O or ///C/HOH`130/O or ///C/HOH`129/O or ///C/HOH`123/O or ///C/HOH`120/O or ///C/HOH`110/O or ///C/HOH`104/O or ///B/HOH`137/O or ///B/HOH`135/O or ///B/HOH`133/O or ///B/HOH`131/O or ///B/HOH`128/O or ///B/HOH`126/O or ///B/HOH`123/O or ///B/HOH`122/O or ///B/HOH`118/O or ///B/HOH`117/O or ///B/HOH`116/O or ///B/HOH`115/O or ///B/HOH`114/O or ///B/HOH`108/O or ///B/HOH`107/O or ///A/HOH`658/O or ///A/HOH`639/O or ///A/HOH`631/O or ///A/HOH`593/O or ///A/HOH`584/O or ///A/HOH`581/O or ///A/HOH`573/O or ///A/HOH`564/O or ///A/HOH`563/O or ///A/HOH`555/O or ///A/HOH`553/O or ///A/HOH`542/O or ///A/HOH`541/O or ///A/HOH`536/O or ///A/HOH`527/O or ///A/HOH`526/O or ///A/HOH`525/O or ///A/HOH`518/O or ///A/HOH`517/O or ///A/HOH`685/O or ///A/HOH`684/O or ///A/HOH`681/O or ///A/HOH`678/O or ///A/HOH`677/O or ///A/HOH`674/O or ///A/HOH`670/O or ///A/HOH`668/O or ///A/HOH`667/O or ///A/HOH`663/O or ///A/HOH`657/O or ///A/HOH`656/O or ///A/HOH`645/O or ///A/HOH`642/O or ///A/HOH`640/O or ///A/HOH`638/O or ///A/HOH`637/O or ///A/HOH`636/O or ///A/HOH`634/O or ///A/HOH`633/O or ///A/HOH`630/O or ///A/HOH`628/O or ///A/HOH`617/O or ///A/HOH`614/O or ///A/HOH`613/O or ///A/HOH`612/O or ///A/HOH`610/O or ///A/HOH`608/O or ///A/HOH`606/O or ///A/HOH`604/O or ///A/HOH`600/O or ///A/HOH`599/O or ///A/HOH`597/O or ///A/HOH`592/O or ///A/HOH`589/O or ///A/HOH`588/O or ///A/HOH`587/O or ///A/HOH`586/O or ///A/HOH`583/O or ///A/HOH`582/O or ///A/HOH`578/O or ///A/HOH`577/O or ///A/HOH`575/O or ///A/HOH`571/O or ///A/HOH`570/O or ///A/HOH`568/O or ///A/HOH`566/O or ///A/HOH`565/O or ///A/HOH`561/O or ///A/HOH`560/O or ///A/HOH`558/O or ///A/HOH`557/O or ///A/HOH`554/O or ///A/HOH`550/O or ///A/HOH`549/O or ///A/HOH`547/O or ///A/HOH`546/O or ///A/HOH`543/O or ///A/HOH`540/O or ///A/HOH`534/O or ///A/HOH`533/O or ///A/HOH`531/O or ///A/HOH`529/O or ///A/HOH`528/O or ///A/HOH`520/O or ///A/HOH`519/O or ///A/HOH`515/O or ///A/HOH`514/O or ///A/HOH`513/O or ///A/HOH`511/O or ///A/HOH`507/O or ///A/HOH`506/O or ///A/HOH`505/O or ///A/HOH`504/O or ///A/HOH`502/O or ///B/HOH`149/O or ///B/HOH`147/O or ///B/HOH`146/O or ///B/HOH`145/O or ///B/HOH`144/O or ///B/HOH`143/O or ///B/HOH`142/O or ///C/HOH`140/O or ///C/HOH`139/O or ///B/HOH`139/O or ///C/HOH`136/O or ///B/HOH`134/O or ///C/HOH`133/O or ///B/HOH`130/O or ///C/HOH`126/O or ///B/HOH`125/O or ///B/HOH`119/O or ///C/HOH`118/O or ///C/HOH`117/O or ///C/HOH`113/O or ///B/HOH`112/O or ///C/HOH`111/O or ///B/HOH`111/O or ///C/HOH`109/O or ///B/HOH`109/O or ///C/HOH`107/O or ///C/HOH`106/O or ///B/HOH`105/O or ///C/HOH`105/O or ///C/HOH`102/O or ///B/HOH`102/O or ///B/HOH`101/O\n"
     ]
    }
   ],
   "source": [
    "import os\n",
    "import glob\n",
    "import sys\n",
    "import pandas\n",
    "import time\n",
    "\n",
    "report_dir = \"../reports/\"\n",
    "#\n",
    "list_of_reports = [\n",
    "    item for item in os.listdir(report_dir) if \"LAGLIDADG_1_6BCE\" in item\n",
    "]\n",
    "# list_of_reports = [item for item in os.listdir(report_dir) if \"report_LAGLIDADG_1_1T9I\"  in item]\n",
    "# list_of_reports = [item for item in os.listdir(report_dir)]\n",
    "\n",
    "# list_of_reports = [item for item in os.listdir(report_dir) if \"binary_table\" in item]\n",
    "\n",
    "\n",
    "for filename in list_of_reports:\n",
    "    print(\"filename \" + filename)\n",
    "    report_name = filename.replace(\".csv\", \"\")\n",
    "    for hgx in glob.glob(f\"*pymol_rpc_workaround_{report_name}*\"):\n",
    "        os.remove(hgx)\n",
    "    for hgx in glob.glob(f\"sur_{report_name}*.txt\"):\n",
    "        os.remove(hgx)\n",
    "    df = pandas.read_csv(report_dir + filename)\n",
    "    # df = pandas.read_csv(report_dir + filename, skiprows=lambda x: df.at[x, 'selector'] == \"Protein_AC\")\n",
    "    # print(df)\n",
    "    # new_df = df.query('selector != Protein_AC')\n",
    "    # new_df = df.loc[df['selector'] != \"Protein_AC\"]\n",
    "    # print(new_df)\n",
    "    pdb_name = df[\"selector\"][3].split(\"//\")[0].replace(\"/\", \"\")\n",
    "    print(pdb_name)\n",
    "\n",
    "    list_of_selectors = []\n",
    "    for row in range(len(df)):\n",
    "        if df.at[row, \"selector\"] == \"Protein_AC\":\n",
    "            continue\n",
    "\n",
    "        list_of_selectors.append(df.at[row, \"selector\"])\n",
    "        # print(df.at[row, 'c1'], df.at[row, 'c2'])\n",
    "    list_of_selectors_as_str = \" or \".join(list_of_selectors)\n",
    "    list_of_selectors_as_str = list_of_selectors_as_str.replace(pdb_name, \"\")\n",
    "    print(list_of_selectors)\n",
    "    print(list_of_selectors_as_str)\n",
    "    cmd.delete(\"all\")\n",
    "    time.sleep(0.900)\n",
    "    cmd.delete(\"all\")\n",
    "\n",
    "    cmd.do(f\"load ./pdb/{pdb_name}.pdb, multiplex=1; as sticks\")\n",
    "\n",
    "    time.sleep(0.900)\n",
    "    cmd.do(\n",
    "        f\"\"\"\n",
    "color grey, polymer.protein\n",
    "color white, polymer.nucleic\n",
    "\"\"\"\n",
    "    )\n",
    "    time.sleep(0.900)\n",
    "    cmd.do(\n",
    "        f\"\"\"\n",
    "select cons, ({list_of_selectors_as_str})\n",
    "\"\"\"\n",
    "    )\n",
    "\n",
    "    time.sleep(0.900)\n",
    "    cmd.do(\n",
    "        f\"\"\"\n",
    "select boo, cons near_to 3.5 of polymer.protein\n",
    "select foo, boo near_to 3.5 of polymer.nucleic\n",
    "\n",
    "list=[]\n",
    "iterate (foo),list.append((\"///\" + chain + \"/\" + resn + \"`\" + resi + \"/\"))\n",
    "print list\n",
    "\n",
    "python\n",
    "with open(\"./scripts-src/pymol_resp/pymol_rpc_workaround_{report_name}.txt\", \"w\") as f:\n",
    "   f.write(\"\\\\n\".join(list))\n",
    "f.close()\n",
    "python end\n",
    "\"\"\"\n",
    "    )\n",
    "    time.sleep(0.900)\n",
    "    cmd.do(\n",
    "        f\"\"\"\n",
    "select sur, * near_to 3.5 of foo\n",
    "\n",
    "list_of_sur=[]\n",
    "iterate (sur),list_of_sur.append((\"///\" + chain + \"/\" + resn + \"`\" + resi + \"/\"))\n",
    "print list_of_sur\n",
    "\n",
    "python\n",
    "with open(\"./scripts-src/pymol_resp/sur_{report_name}.txt\", \"w\") as f:\n",
    "   f.write(\"\\\\n\".join(list_of_sur))\n",
    "f.close()\n",
    "python end\n",
    "\"\"\"\n",
    "    )\n",
    "    time.sleep(5.900)\n",
    "\n",
    "    # print(df.head())"
   ]
  }
 ],
 "metadata": {
  "kernelspec": {
   "display_name": "Python 3 (ipykernel)",
   "language": "python",
   "name": "python3"
  },
  "language_info": {
   "codemirror_mode": {
    "name": "ipython",
    "version": 3
   },
   "file_extension": ".py",
   "mimetype": "text/x-python",
   "name": "python",
   "nbconvert_exporter": "python",
   "pygments_lexer": "ipython3",
   "version": "3.9.12"
  }
 },
 "nbformat": 4,
 "nbformat_minor": 5
}
